{
 "cells": [
  {
   "cell_type": "code",
   "execution_count": null,
   "id": "fc85bdb1",
   "metadata": {},
   "outputs": [],
   "source": [
    "from tensorflow.python.client import device_lib\n",
    "device_lib.list_local_devices()"
   ]
  },
  {
   "cell_type": "code",
   "execution_count": null,
   "id": "f7851c6f",
   "metadata": {},
   "outputs": [],
   "source": [
    "import os\n",
    "import numpy as np\n",
    "import pandas as pd\n",
    "from glob import glob\n",
    "from itertools import chain\n",
    "from sklearn.metrics import roc_curve, auc, roc_auc_score, accuracy_score, average_precision_score\n",
    "from matplotlib import pyplot as plt\n",
    "from sklearn.model_selection import train_test_split\n",
    "from tensorflow.keras.preprocessing.image import ImageDataGenerator\n",
    "\n",
    "import tensorflow as tf"
   ]
  },
  {
   "cell_type": "markdown",
   "id": "c283254c",
   "metadata": {},
   "source": [
    "---\n",
    "## 데이터 전처리 및 데이터 분리\n",
    "---"
   ]
  },
  {
   "cell_type": "code",
   "execution_count": null,
   "id": "ffc0bb23",
   "metadata": {},
   "outputs": [],
   "source": [
    "DATA_DIR = ''\n",
    "image_size = 128\n",
    "batch_size = 32"
   ]
  },
  {
   "cell_type": "code",
   "execution_count": null,
   "id": "5d7870a8",
   "metadata": {},
   "outputs": [],
   "source": [
    "df = pd.read_csv(f'{DATA_DIR}Data_Entry_2017.csv')"
   ]
  },
  {
   "cell_type": "code",
   "execution_count": null,
   "id": "dff65c58",
   "metadata": {},
   "outputs": [],
   "source": [
    "data_image_paths = {os.path.basename(x): x for x in glob(os.path.join(DATA_DIR, 'images*', '*', '*.png'))}"
   ]
  },
  {
   "cell_type": "code",
   "execution_count": null,
   "id": "e9068e26",
   "metadata": {},
   "outputs": [],
   "source": [
    "df['path'] = df['Image Index'].map(data_image_paths.get)"
   ]
  },
  {
   "cell_type": "code",
   "execution_count": null,
   "id": "0d37cabf",
   "metadata": {},
   "outputs": [],
   "source": [
    "labels = np.unique(list(chain(*df['Finding Labels'].map(lambda x: x.split('|')).tolist())))\n",
    "labels = [x for x in labels if len(x) > 0]"
   ]
  },
  {
   "cell_type": "code",
   "execution_count": null,
   "id": "d7e7ba25",
   "metadata": {},
   "outputs": [],
   "source": [
    "all_labels = labels\n",
    "#all_labels"
   ]
  },
  {
   "cell_type": "code",
   "execution_count": null,
   "id": "d8172f3b",
   "metadata": {},
   "outputs": [],
   "source": [
    "for label in labels:\n",
    "    if len(label) > 1:\n",
    "        df[label] = df['Finding Labels'].map(lambda finding: 1.0 if label in finding else 0.0)"
   ]
  },
  {
   "cell_type": "code",
   "execution_count": null,
   "id": "2f806034",
   "metadata": {},
   "outputs": [],
   "source": [
    "#df.head()"
   ]
  },
  {
   "cell_type": "code",
   "execution_count": null,
   "id": "7946e63b",
   "metadata": {},
   "outputs": [],
   "source": [
    "from sklearn.model_selection import train_test_split\n",
    "\n",
    "train_and_valid_df, test_df = train_test_split(df, \n",
    "                                               test_size=0.2, \n",
    "                                               random_state=2021, shuffle=True, stratify=df['Finding Labels'])\n",
    "\n",
    "train_df, valid_df = train_test_split(train_and_valid_df, \n",
    "                                      test_size=0.3, \n",
    "                                      random_state=2021, shuffle=True, stratify=train_and_valid_df['Finding Labels'])"
   ]
  },
  {
   "cell_type": "code",
   "execution_count": null,
   "id": "45368dd3",
   "metadata": {},
   "outputs": [],
   "source": [
    "print(f'train_and_valid_df {train_and_valid_df.shape[0]} train {train_df.shape[0]} valid_df {valid_df.shape[0]} Test_df: {test_df.shape[0]}')"
   ]
  },
  {
   "cell_type": "code",
   "execution_count": null,
   "id": "44f8ad50",
   "metadata": {},
   "outputs": [],
   "source": [
    "valid_df['Finding Labels'].value_counts()"
   ]
  },
  {
   "cell_type": "code",
   "execution_count": null,
   "id": "b9247b18",
   "metadata": {},
   "outputs": [],
   "source": [
    "test_df['Finding Labels'].value_counts()"
   ]
  },
  {
   "cell_type": "code",
   "execution_count": null,
   "id": "e8a07f63",
   "metadata": {},
   "outputs": [],
   "source": [
    "#test_df"
   ]
  },
  {
   "cell_type": "code",
   "execution_count": null,
   "id": "146fbbfa",
   "metadata": {},
   "outputs": [],
   "source": [
    "train_df['labels'] = train_df.apply(lambda x: x['Finding Labels'].split('|'), axis=1)\n",
    "valid_df['labels'] = valid_df.apply(lambda x: x['Finding Labels'].split('|'), axis=1)\n",
    "test_df['labels'] = test_df.apply(lambda x: x['Finding Labels'].split('|'), axis=1)"
   ]
  },
  {
   "cell_type": "code",
   "execution_count": null,
   "id": "5786eb3a",
   "metadata": {},
   "outputs": [],
   "source": [
    "#train_df"
   ]
  },
  {
   "cell_type": "code",
   "execution_count": null,
   "id": "ae7ecab3",
   "metadata": {},
   "outputs": [],
   "source": [
    "core_idg = ImageDataGenerator(rescale=1 / 255)\n",
    "\n",
    "train_gen = core_idg.flow_from_dataframe(dataframe=train_df,\n",
    "                                             directory=None,\n",
    "                                             x_col='path',\n",
    "                                             y_col='labels',\n",
    "                                             class_mode='categorical',\n",
    "                                             batch_size=batch_size,\n",
    "                                             classes=labels,\n",
    "                                             target_size=(image_size, image_size))\n",
    "\n",
    "valid_gen = core_idg.flow_from_dataframe(dataframe=valid_df,\n",
    "                                             directory=None,\n",
    "                                             x_col='path',\n",
    "                                             y_col='labels',\n",
    "                                             class_mode='categorical',\n",
    "                                             batch_size=batch_size,\n",
    "                                             classes=labels,\n",
    "                                             target_size=(image_size, image_size))\n",
    "\n",
    "test_gen = core_idg.flow_from_dataframe(dataframe=test_df,\n",
    "                                             directory=None,\n",
    "                                             x_col='path',\n",
    "                                             y_col='labels',\n",
    "                                             class_mode='categorical',\n",
    "                                             batch_size=batch_size,\n",
    "                                             classes=labels,\n",
    "                                             target_size=(image_size, image_size))\n",
    "\n",
    "\n",
    "valid_X, valid_Y = next(core_idg.flow_from_dataframe(dataframe=valid_df,\n",
    "                                                       directory=None,\n",
    "                                                       x_col='path',\n",
    "                                                       y_col='labels',\n",
    "                                                       class_mode='categorical',\n",
    "                                                       batch_size=512,\n",
    "                                                       classes=labels,\n",
    "                                                       target_size=(image_size, image_size)))\n",
    "\n",
    "test_X, test_Y = next(core_idg.flow_from_dataframe(dataframe=test_df,\n",
    "                                                       directory=None,\n",
    "                                                       x_col='path',\n",
    "                                                       y_col='labels',\n",
    "                                                       class_mode='categorical',\n",
    "                                                       batch_size=512,\n",
    "                                                       classes=labels,\n",
    "                                                       target_size=(image_size, image_size)))"
   ]
  },
  {
   "cell_type": "markdown",
   "id": "2d01cd69",
   "metadata": {},
   "source": [
    "---\n",
    "## 네트워크 모델 정의후 데이터 연결, 학습 진행\n",
    "---"
   ]
  },
  {
   "cell_type": "code",
   "execution_count": null,
   "id": "df1c5fe1",
   "metadata": {},
   "outputs": [],
   "source": [
    "import tensorflow as tf\n",
    "base_model = tf.keras.applications.DenseNet121(input_shape=(image_size, image_size, 3), weights=None, include_top=True, classes=15)\n",
    "base_model.summary()"
   ]
  },
  {
   "cell_type": "code",
   "execution_count": null,
   "id": "d3cc2ceb",
   "metadata": {},
   "outputs": [],
   "source": [
    "from keras.metrics import AUC\n",
    "import keras\n",
    "\n",
    "\n",
    "base_model.compile(optimizer='adam', \n",
    "              loss = 'binary_crossentropy', \n",
    "              metrics = [AUC(name='AUC'), 'accuracy'])"
   ]
  },
  {
   "cell_type": "code",
   "execution_count": null,
   "id": "95f87622",
   "metadata": {},
   "outputs": [],
   "source": [
    "history = base_model.fit(train_gen,\n",
    "                    epochs=50,\n",
    "                    validation_data=(valid_X, valid_Y),)"
   ]
  },
  {
   "cell_type": "code",
   "execution_count": null,
   "id": "1dbced24",
   "metadata": {},
   "outputs": [],
   "source": [
    "history_df = pd.DataFrame(history.history)\n",
    "history_df.to_csv('history_df.csv')\n",
    "history_df"
   ]
  },
  {
   "cell_type": "code",
   "execution_count": null,
   "id": "b5db6171",
   "metadata": {},
   "outputs": [],
   "source": [
    "history_df.loc[:, ['loss', 'val_loss']].plot();\n",
    "plt.savefig('loss,val_loss.png')\n",
    "history_df.loc[:, ['accuracy', 'val_accuracy']].plot();\n",
    "plt.savefig('accuracy,val_accuracy.png')\n",
    "print(\"Minimum validation loss: {}\".format(history_df['val_loss'].min()))\n",
    "print(\"Maximum validation accuracy: {}\".format(history_df['val_accuracy'].max()))"
   ]
  },
  {
   "cell_type": "markdown",
   "id": "391a810b",
   "metadata": {},
   "source": [
    "### validation_data 에 대한 정보"
   ]
  },
  {
   "cell_type": "code",
   "execution_count": null,
   "id": "806b3827",
   "metadata": {
    "scrolled": true
   },
   "outputs": [],
   "source": [
    "for c_label, s_count in zip(all_labels, 100*np.mean(valid_Y,0)):\n",
    "    print('%s: %2.2f%%' % (c_label, s_count))"
   ]
  },
  {
   "cell_type": "code",
   "execution_count": null,
   "id": "e9849de8",
   "metadata": {},
   "outputs": [],
   "source": [
    "valid_pred_Y = model.predict(valid_X, batch_size = 32, verbose = True)"
   ]
  },
  {
   "cell_type": "code",
   "execution_count": null,
   "id": "38f48a5a",
   "metadata": {},
   "outputs": [],
   "source": [
    "from sklearn.metrics import roc_curve, auc\n",
    "fig, c_ax = plt.subplots(1,1, figsize = (9, 9))\n",
    "for (idx, c_label) in enumerate(all_labels):\n",
    "    fpr, tpr, thresholds = roc_curve(valid_Y[:,idx].astype(int), valid_pred_Y[:,idx])\n",
    "    c_ax.plot(fpr, tpr, label = '%s (AUC:%0.2f)'  % (c_label, auc(fpr, tpr)))\n",
    "c_ax.legend()\n",
    "c_ax.set_xlabel('False Positive Rate')\n",
    "c_ax.set_ylabel('True Positive Rate')\n",
    "fig.savefig('valid_trained_net.png')"
   ]
  },
  {
   "cell_type": "code",
   "execution_count": null,
   "id": "374fc953",
   "metadata": {},
   "outputs": [],
   "source": [
    "from sklearn.metrics import roc_auc_score\n",
    "auc = roc_auc_score(valid_Y, valid_pred_Y)\n",
    "print('ROC AUC: %f' % auc)"
   ]
  },
  {
   "cell_type": "markdown",
   "id": "7e27beac",
   "metadata": {},
   "source": [
    "### test_data 에 대한 정보"
   ]
  },
  {
   "cell_type": "code",
   "execution_count": null,
   "id": "9c0a6551",
   "metadata": {},
   "outputs": [],
   "source": [
    "for c_label, s_count in zip(all_labels, 100*np.mean(test_Y,0)):\n",
    "    print('%s: %2.2f%%' % (c_label, s_count))"
   ]
  },
  {
   "cell_type": "code",
   "execution_count": null,
   "id": "aed9a0b0",
   "metadata": {},
   "outputs": [],
   "source": [
    "test_pred_Y = model.predict(test_X, batch_size = 32, verbose = True)"
   ]
  },
  {
   "cell_type": "code",
   "execution_count": null,
   "id": "bc9bcf92",
   "metadata": {},
   "outputs": [],
   "source": [
    "from sklearn.metrics import roc_curve, auc\n",
    "fig, c_ax = plt.subplots(1,1, figsize = (9, 9))\n",
    "for (idx, c_label) in enumerate(all_labels):\n",
    "    fpr, tpr, thresholds = roc_curve(test_Y[:,idx].astype(int), test_pred_Y[:,idx])\n",
    "    c_ax.plot(fpr, tpr, label = '%s (AUC:%0.2f)'  % (c_label, auc(fpr, tpr)))\n",
    "c_ax.legend()\n",
    "c_ax.set_xlabel('False Positive Rate')\n",
    "c_ax.set_ylabel('True Positive Rate')\n",
    "fig.savefig('test_trained_net.png')"
   ]
  },
  {
   "cell_type": "code",
   "execution_count": null,
   "id": "bcf7a078",
   "metadata": {},
   "outputs": [],
   "source": [
    "from sklearn.metrics import roc_auc_score\n",
    "auc = roc_auc_score(test_Y, test_pred_Y)\n",
    "print('ROC AUC: %f' % auc)"
   ]
  },
  {
   "cell_type": "markdown",
   "id": "dbfb0914",
   "metadata": {},
   "source": [
    "### test 셋에 대한 평가"
   ]
  },
  {
   "cell_type": "code",
   "execution_count": null,
   "id": "9192c4ba",
   "metadata": {},
   "outputs": [],
   "source": [
    "# Evaluate the model on the test data using `evaluate`\n",
    "print(\"Evaluate on test data\")\n",
    "results = model.evaluate(test_X, test_Y, batch_size=128, return_dict=True)\n",
    "print(\"test loss, test acc:\", results)\n",
    "\n",
    "# Generate predictions (probabilities -- the output of the last layer)\n",
    "# on new data using `predict`\n",
    "print(\"Generate predictions for 3 samples\")\n",
    "predictions = model.predict(test_X[:3])\n",
    "print(\"predictions shape:\", predictions.shape)"
   ]
  },
  {
   "cell_type": "code",
   "execution_count": null,
   "id": "c5161e94",
   "metadata": {},
   "outputs": [],
   "source": [
    "predictions=pd.DataFrame(predictions)\n",
    "predictions.to_csv(\"predictions.csv\")"
   ]
  },
  {
   "cell_type": "code",
   "execution_count": null,
   "id": "6a2160a1",
   "metadata": {},
   "outputs": [],
   "source": [
    "#pd.DataFrame(predictions)"
   ]
  },
  {
   "cell_type": "code",
   "execution_count": null,
   "id": "52e9126f",
   "metadata": {},
   "outputs": [],
   "source": [
    "#test_X[:3]"
   ]
  },
  {
   "cell_type": "code",
   "execution_count": null,
   "id": "e47c4224",
   "metadata": {},
   "outputs": [],
   "source": [
    "#test_df[:3]"
   ]
  },
  {
   "cell_type": "code",
   "execution_count": null,
   "id": "157d28e5",
   "metadata": {},
   "outputs": [],
   "source": [
    "test_df.to_csv(\"test_df.csv\")"
   ]
  },
  {
   "cell_type": "markdown",
   "id": "a7c4b2b4",
   "metadata": {},
   "source": [
    "### 모델 저장"
   ]
  },
  {
   "cell_type": "code",
   "execution_count": null,
   "id": "ba323e6b",
   "metadata": {},
   "outputs": [],
   "source": [
    "model.save('model.h5')\n",
    "model.save_weights('model_weights.h5')"
   ]
  },
  {
   "cell_type": "markdown",
   "id": "cb02c5f8",
   "metadata": {},
   "source": [
    "## 저장한 모델 불러와서 Feature Map, Grad-Cam 확인하기"
   ]
  },
  {
   "cell_type": "code",
   "execution_count": null,
   "id": "8cc4ec44",
   "metadata": {},
   "outputs": [],
   "source": [
    "from tensorflow.keras.applications.vgg16 import preprocess_input\n",
    "from tensorflow.keras.preprocessing.image import load_img\n",
    "from tensorflow.keras.preprocessing.image import img_to_array\n",
    "from tensorflow.keras.models import Model\n",
    "from matplotlib import pyplot\n",
    "from numpy import expand_dims\n",
    "from matplotlib import pyplot"
   ]
  },
  {
   "cell_type": "code",
   "execution_count": null,
   "id": "2eba5555",
   "metadata": {},
   "outputs": [],
   "source": [
    "from keras.models import load_model\n",
    "model_2 = load_model('model.h5')\n",
    "model_2.summary()"
   ]
  },
  {
   "cell_type": "code",
   "execution_count": null,
   "id": "3d1e3061",
   "metadata": {},
   "outputs": [],
   "source": [
    "model2 = Model(inputs=model_2.input, outputs=model_2.layers[3].output)\n",
    "model2.summary()"
   ]
  },
  {
   "cell_type": "code",
   "execution_count": null,
   "id": "6207676b",
   "metadata": {},
   "outputs": [],
   "source": [
    "image = load_img(\"images/images/00000001_000.PNG\" , target_size=(128,128))\n",
    "\n",
    "image = img_to_array(image)\n",
    "\n",
    "image = expand_dims(image, axis=0)"
   ]
  },
  {
   "cell_type": "code",
   "execution_count": null,
   "id": "11173b65",
   "metadata": {},
   "outputs": [],
   "source": [
    "fig = pyplot.figure(figsize=(10,10))\n",
    "for i in range(1,features.shape[3]+1):\n",
    "\n",
    "    pyplot.subplot(16,4,i)\n",
    "    pyplot.imshow(features[0,:,:,i-1] , cmap='gray')\n",
    "    \n",
    "pyplot.show()"
   ]
  },
  {
   "cell_type": "code",
   "execution_count": null,
   "id": "7acd6aa3",
   "metadata": {},
   "outputs": [],
   "source": [
    "import numpy as np\n",
    "import tensorflow as tf\n",
    "from tensorflow import keras\n",
    "\n",
    "from IPython.display import Image, display\n",
    "import matplotlib.pyplot as plt\n",
    "import matplotlib.cm as cm"
   ]
  },
  {
   "cell_type": "code",
   "execution_count": null,
   "id": "34b6def9",
   "metadata": {},
   "outputs": [],
   "source": [
    "              \n",
    "img_size = (128, 128)\n",
    "\n",
    "preprocess_input = keras.applications.densenet.preprocess_input    \n",
    "decode_predictions = keras.applications.densenet.preprocess_input   \n",
    "\n",
    "last_conv_layer_name = \"conv1/conv\"\n",
    "\n",
    "img_path = \"images/images/00000001_000.PNG\"\n",
    "\n",
    "display(Image(img_path))"
   ]
  },
  {
   "cell_type": "code",
   "execution_count": null,
   "id": "f90165bf",
   "metadata": {},
   "outputs": [],
   "source": [
    "def get_img_array(img_path, size):\n",
    "    img = keras.preprocessing.image.load_img(img_path, target_size=size)\n",
    "    array = keras.preprocessing.image.img_to_array(img)\n",
    "    array = np.expand_dims(array, axis=0)\n",
    "    return array\n",
    "\n",
    "\n",
    "def make_gradcam_heatmap(img_array, model, last_conv_layer_name, pred_index=None):\n",
    "    grad_model = tf.keras.models.Model(\n",
    "        [model.inputs], [model.get_layer(last_conv_layer_name).output, model.output]\n",
    "    )\n",
    "    with tf.GradientTape() as tape:\n",
    "        last_conv_layer_output, preds = grad_model(img_array)\n",
    "        if pred_index is None:\n",
    "            pred_index = tf.argmax(preds[0])\n",
    "        class_channel = preds[:, pred_index]\n",
    "\n",
    "    grads = tape.gradient(class_channel, last_conv_layer_output)\n",
    "\n",
    "    pooled_grads = tf.reduce_mean(grads, axis=(0, 1, 2))\n",
    "\n",
    "    last_conv_layer_output = last_conv_layer_output[0]\n",
    "    heatmap = last_conv_layer_output @ pooled_grads[..., tf.newaxis]\n",
    "    heatmap = tf.squeeze(heatmap)\n",
    "\n",
    "    heatmap = tf.maximum(heatmap, 0) / tf.math.reduce_max(heatmap)\n",
    "    return heatmap.numpy()"
   ]
  },
  {
   "cell_type": "code",
   "execution_count": null,
   "id": "843d596e",
   "metadata": {},
   "outputs": [],
   "source": [
    "img_array = preprocess_input(get_img_array(img_path, size=img_size))\n",
    "\n",
    "model = load_model('model.h5')\n",
    "\n",
    "model.layers[-1].activation = None\n",
    "\n",
    "preds = model.predict(img_array)\n",
    "\n",
    "heatmap = make_gradcam_heatmap(img_array, model, last_conv_layer_name)\n",
    "\n",
    "plt.matshow(heatmap)\n",
    "plt.show()"
   ]
  },
  {
   "cell_type": "code",
   "execution_count": null,
   "id": "7e35bd49",
   "metadata": {},
   "outputs": [],
   "source": [
    "def save_and_display_gradcam(img_path, heatmap, cam_path=\"cam.jpg\", alpha=0.4):\n",
    "\n",
    "    img = keras.preprocessing.image.load_img(img_path)\n",
    "    img = keras.preprocessing.image.img_to_array(img)\n",
    "\n",
    "\n",
    "    heatmap = np.uint8(255 * heatmap)\n",
    "\n",
    "\n",
    "    jet = cm.get_cmap(\"jet\")\n",
    "\n",
    "\n",
    "    jet_colors = jet(np.arange(256))[:, :3]\n",
    "    jet_heatmap = jet_colors[heatmap]\n",
    "\n",
    "\n",
    "    jet_heatmap = keras.preprocessing.image.array_to_img(jet_heatmap)\n",
    "    jet_heatmap = jet_heatmap.resize((img.shape[1], img.shape[0]))\n",
    "    jet_heatmap = keras.preprocessing.image.img_to_array(jet_heatmap)\n",
    "\n",
    "\n",
    "    superimposed_img = jet_heatmap * alpha + img\n",
    "    superimposed_img = keras.preprocessing.image.array_to_img(superimposed_img)\n",
    "\n",
    "\n",
    "    superimposed_img.save(cam_path)\n",
    "\n",
    "\n",
    "    display(Image(cam_path))\n",
    "\n",
    "\n",
    "save_and_display_gradcam(img_path, heatmap)"
   ]
  }
 ],
 "metadata": {
  "kernelspec": {
   "display_name": "gpu-210609",
   "language": "python",
   "name": "gpu"
  },
  "language_info": {
   "codemirror_mode": {
    "name": "ipython",
    "version": 3
   },
   "file_extension": ".py",
   "mimetype": "text/x-python",
   "name": "python",
   "nbconvert_exporter": "python",
   "pygments_lexer": "ipython3",
   "version": "3.8.10"
  }
 },
 "nbformat": 4,
 "nbformat_minor": 5
}
